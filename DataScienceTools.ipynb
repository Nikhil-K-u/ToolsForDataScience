{
 "cells": [
  {
   "cell_type": "markdown",
   "id": "0ef72a6e-b7bb-4690-8c00-c83d9ce55289",
   "metadata": {},
   "source": [
    "<h1> Data Science Tools and Ecosystems </h1>"
   ]
  },
  {
   "cell_type": "markdown",
   "id": "3d3722a9-e645-42e3-8635-7ec2f4d633b0",
   "metadata": {},
   "source": [
    "In this notebook, Data Science Tools and Ecosystem are summarized."
   ]
  },
  {
   "cell_type": "markdown",
   "id": "2a5978d9-2004-4c2e-98a0-8828b590f337",
   "metadata": {},
   "source": [
    "<b>Objective:</b>\n",
    "- Popular languages\n",
    "- Commonly used libraries\n",
    "- Comman Tools\n",
    "- Arithmetic Expression in Python"
   ]
  },
  {
   "cell_type": "markdown",
   "id": "5484e2eb-99e2-4562-9a41-7a42c503cfed",
   "metadata": {},
   "source": [
    "Some of the popular languages that Data Scientists use are:\n",
    "1. Python\n",
    "2. Ruby\n",
    "3. R"
   ]
  },
  {
   "cell_type": "markdown",
   "id": "3281b14d-0357-49b0-ba69-26a01ceb1c0f",
   "metadata": {},
   "source": [
    "Some of the commonly used libraries used by Data Scientists include:\n",
    "1. Matplotlab\n",
    "2. Pandas\n",
    "3. keras"
   ]
  },
  {
   "cell_type": "markdown",
   "id": "b0201ae6-1f4a-4d93-a716-e51b58016e27",
   "metadata": {},
   "source": [
    "|Data Science Tools|\n",
    "|------------------|\n",
    "|JuypterNoteBook|\n",
    "|WatsonStudio|\n",
    "|AzureML_Studio|"
   ]
  },
  {
   "cell_type": "markdown",
   "id": "99808a38-8fe9-4507-887e-435f350214ed",
   "metadata": {},
   "source": [
    "<h3>Below are a few examples of evaluating arithmetic expressions in Python</h3>\n",
    ">> a=5 <br>\n",
    ">> b=8  <br>\n",
    ">> c=a+b <br>\n",
    ">> d=b-a <br>\n",
    ">> e=a*b"
   ]
  },
  {
   "cell_type": "code",
   "execution_count": 12,
   "id": "7a262137-871f-45c2-a871-0200c27d03b2",
   "metadata": {},
   "outputs": [
    {
     "name": "stdout",
     "output_type": "stream",
     "text": [
      "17\n"
     ]
    }
   ],
   "source": [
    "#This a simple arithmetic expression to mutiply then add integers\n",
    "print((3*4)+5)\n"
   ]
  },
  {
   "cell_type": "code",
   "execution_count": 13,
   "id": "e0f27f6d-97dc-4988-acea-3d58263b5be5",
   "metadata": {},
   "outputs": [
    {
     "name": "stdout",
     "output_type": "stream",
     "text": [
      "3.3333333333333335 hours\n"
     ]
    }
   ],
   "source": [
    "# This will convert 200 minutes to hours by diving by 60\n",
    "a=(200.0/60)\n",
    "print(str(a) + \" hours\")"
   ]
  },
  {
   "cell_type": "markdown",
   "id": "df4b6a7e-cf1d-4179-a89c-de30aca91c86",
   "metadata": {},
   "source": [
    "<h2> Author</h2>\n",
    "Nikhil Kumar"
   ]
  },
  {
   "cell_type": "code",
   "execution_count": null,
   "id": "90d969e1-6d66-408a-90fd-336bbb33465f",
   "metadata": {},
   "outputs": [],
   "source": []
  }
 ],
 "metadata": {
  "kernelspec": {
   "display_name": "Python",
   "language": "python",
   "name": "conda-env-python-py"
  },
  "language_info": {
   "codemirror_mode": {
    "name": "ipython",
    "version": 3
   },
   "file_extension": ".py",
   "mimetype": "text/x-python",
   "name": "python",
   "nbconvert_exporter": "python",
   "pygments_lexer": "ipython3",
   "version": "3.7.12"
  }
 },
 "nbformat": 4,
 "nbformat_minor": 5
}
